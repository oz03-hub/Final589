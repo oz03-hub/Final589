{
 "cells": [
  {
   "cell_type": "code",
   "execution_count": 1,
   "id": "a08c6f49",
   "metadata": {},
   "outputs": [],
   "source": [
    "from sklearn import datasets \n",
    "import numpy as np\n",
    "import pandas as pd\n",
    "import matplotlib.pyplot as plt\n",
    "digits = datasets.load_digits(return_X_y=True) "
   ]
  },
  {
   "cell_type": "code",
   "execution_count": 2,
   "id": "13199d07",
   "metadata": {},
   "outputs": [],
   "source": [
    "d = pd.DataFrame(digits[0])\n",
    "d[\"y\"] = digits[1]\n",
    "d.columns = d.columns.astype(str)"
   ]
  },
  {
   "cell_type": "code",
   "execution_count": 3,
   "id": "f60b412f",
   "metadata": {},
   "outputs": [],
   "source": [
    "from random_forest import RandomForest\n",
    "\n",
    "rf = RandomForest(10, d, \"y\", numeric_end=\"\")"
   ]
  },
  {
   "cell_type": "code",
   "execution_count": 4,
   "id": "29f321e2",
   "metadata": {},
   "outputs": [
    {
     "data": {
      "text/plain": [
       "0       0\n",
       "1       1\n",
       "2       2\n",
       "3       3\n",
       "4       4\n",
       "       ..\n",
       "1792    9\n",
       "1793    0\n",
       "1794    8\n",
       "1795    9\n",
       "1796    8\n",
       "Length: 1797, dtype: int64"
      ]
     },
     "execution_count": 4,
     "metadata": {},
     "output_type": "execute_result"
    }
   ],
   "source": [
    "rf.predict_df(d)"
   ]
  },
  {
   "cell_type": "code",
   "execution_count": null,
   "id": "1fa41fc5",
   "metadata": {},
   "outputs": [],
   "source": [
    "d.head()"
   ]
  },
  {
   "cell_type": "code",
   "execution_count": null,
   "id": "c296ef99",
   "metadata": {},
   "outputs": [],
   "source": [
    "X = d.drop(columns=[\"y\"]).to_numpy()\n",
    "y = np.eye(10)[d[\"y\"].to_list()]"
   ]
  },
  {
   "cell_type": "code",
   "execution_count": null,
   "id": "3921884c",
   "metadata": {},
   "outputs": [],
   "source": [
    "from neural_net import NeuralNet\n",
    "\n",
    "net = NeuralNet(layers=[64, 100, 100, 100, 10], step_size=0.1, lambda_reg=0.1, epochs=10)\n",
    "net.fit(X, y)"
   ]
  },
  {
   "cell_type": "code",
   "execution_count": null,
   "id": "e8b2674a",
   "metadata": {},
   "outputs": [],
   "source": [
    "p = net.predict(X)\n",
    "p = [z.reshape(-1) for z in p]"
   ]
  },
  {
   "cell_type": "code",
   "execution_count": null,
   "id": "421e2d93",
   "metadata": {},
   "outputs": [],
   "source": [
    "pred_labels = np.argmax(p, axis=1)"
   ]
  },
  {
   "cell_type": "code",
   "execution_count": null,
   "id": "0dcdfe43",
   "metadata": {},
   "outputs": [],
   "source": [
    "pred_labels"
   ]
  },
  {
   "cell_type": "code",
   "execution_count": null,
   "id": "e1fa3b8e",
   "metadata": {},
   "outputs": [],
   "source": [
    "np.argmax(y, axis=1)"
   ]
  },
  {
   "cell_type": "code",
   "execution_count": null,
   "id": "81aab1fa",
   "metadata": {},
   "outputs": [],
   "source": [
    "def accuracy(model, X_test, y_test):\n",
    "    correct = 0\n",
    "    predictions = model.predict(X_test)\n",
    "    for p, a in zip(predictions, y_test):\n",
    "        p = p.reshape(-1)\n",
    "\n",
    "        if np.argmax(p) == np.argmax(a):\n",
    "            correct += 1\n",
    "    return correct / len(y_test)\n",
    "\n",
    "accuracy(net, X, y_encoded)"
   ]
  },
  {
   "cell_type": "code",
   "execution_count": null,
   "id": "3bc6b5ee",
   "metadata": {},
   "outputs": [],
   "source": [
    "df = pd.DataFrame(X)\n",
    "df['label'] = y"
   ]
  },
  {
   "cell_type": "code",
   "execution_count": null,
   "id": "8cb6c338",
   "metadata": {},
   "outputs": [],
   "source": [
    "df.head()"
   ]
  },
  {
   "cell_type": "code",
   "execution_count": null,
   "id": "9ba6b90e",
   "metadata": {},
   "outputs": [],
   "source": [
    "from dt import DecisionTree\n",
    "\n",
    "t = DecisionTree()\n",
    "t.fit(df)"
   ]
  },
  {
   "cell_type": "code",
   "execution_count": null,
   "id": "81eccd6f",
   "metadata": {},
   "outputs": [],
   "source": [
    "t.predict(df.iloc[4].drop(columns=['label']))"
   ]
  },
  {
   "cell_type": "code",
   "execution_count": null,
   "id": "e1d96abf",
   "metadata": {},
   "outputs": [],
   "source": []
  }
 ],
 "metadata": {
  "kernelspec": {
   "display_name": "hbp",
   "language": "python",
   "name": "python3"
  },
  "language_info": {
   "codemirror_mode": {
    "name": "ipython",
    "version": 3
   },
   "file_extension": ".py",
   "mimetype": "text/x-python",
   "name": "python",
   "nbconvert_exporter": "python",
   "pygments_lexer": "ipython3",
   "version": "3.10.0"
  }
 },
 "nbformat": 4,
 "nbformat_minor": 5
}
